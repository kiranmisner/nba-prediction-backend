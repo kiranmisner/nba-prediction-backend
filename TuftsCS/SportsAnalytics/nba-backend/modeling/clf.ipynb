{
 "cells": [
  {
   "cell_type": "markdown",
   "metadata": {},
   "source": [
    "# Models for Player Classification # \n",
    "\n",
    "Supervised or Unsupervised?\n",
    "\n",
    "Supervised - data is labeled and the classifier is trying to match \n",
    "Unsupervised - K means clustering to create K clusters of players\n",
    "\n",
    "Input: <br>\n",
    "  - Player Projections \n",
    "Output: <br>\n",
    "  - K cluster centroids \n",
    "\n",
    "Will be able to input a player's projections and get their projected cluster "
   ]
  },
  {
   "cell_type": "code",
   "execution_count": null,
   "metadata": {},
   "outputs": [],
   "source": [
    "import numpy as np \n",
    "import pandas as pd \n",
    "from sklearn.linear_model import LinearRegression\n",
    "from sklearn.pipeline import make_pipeline\n",
    "from sklearn.preprocessing import StandardScaler\n",
    "from sklearn.model_selection import GridSearchCV\n",
    "from sklearn.preprocessing import PolynomialFeatures\n",
    "from sklearn.decomposition import PCA\n",
    "from sklearn.cluster import KMeans\n",
    "from sklearn.metrics import silhouette_score"
   ]
  },
  {
   "cell_type": "code",
   "execution_count": null,
   "metadata": {},
   "outputs": [],
   "source": [
    "def genClf (data):\n",
    "    param_grid = {\n",
    "        \"kmeans__n_clusters\": np.arange(start=3, stop=7, step=1),\n",
    "    }\n",
    "\n",
    "    pipe = make_pipeline(StandardScaler(), \n",
    "                         KMeans(init='k-means++'))\n",
    "\n",
    "    clf = GridSearchCV(pipe, param_grid, scoring='completeness_score')\n",
    "    return clf \n"
   ]
  },
  {
   "cell_type": "code",
   "execution_count": null,
   "metadata": {},
   "outputs": [],
   "source": [
    "def bestClf(models, data):\n",
    "    sil_scores = []\n",
    "    for clf in models:\n",
    "        km = clf.predict(data)\n",
    "\n",
    "        score = silhouette_score(data, km.labels_, metric='euclidean')"
   ]
  },
  {
   "cell_type": "code",
   "execution_count": null,
   "metadata": {},
   "outputs": [],
   "source": [
    "\n",
    "\n",
    "\n",
    "\n"
   ]
  }
 ],
 "metadata": {
  "interpreter": {
   "hash": "aee8b7b246df8f9039afb4144a1f6fd8d2ca17a180786b69acc140d282b71a49"
  },
  "kernelspec": {
   "display_name": "Python 3.9.5 64-bit",
   "language": "python",
   "name": "python3"
  },
  "language_info": {
   "name": "python",
   "version": "3.9.5"
  },
  "orig_nbformat": 4
 },
 "nbformat": 4,
 "nbformat_minor": 2
}
